{
  "nbformat": 4,
  "nbformat_minor": 0,
  "metadata": {
    "colab": {
      "name": "credit_card_project_pyhton.ipynb",
      "provenance": [],
      "authorship_tag": "ABX9TyPCPEJxK7VBLWRLyG91GljF",
      "include_colab_link": true
    },
    "kernelspec": {
      "name": "python3",
      "display_name": "Python 3"
    }
  },
  "cells": [
    {
      "cell_type": "markdown",
      "metadata": {
        "id": "view-in-github",
        "colab_type": "text"
      },
      "source": [
        "<a href=\"https://colab.research.google.com/github/MayumyCH/credit_card_project_pyhton/blob/main/credit_card_project_pyhton.ipynb\" target=\"_parent\"><img src=\"https://colab.research.google.com/assets/colab-badge.svg\" alt=\"Open In Colab\"/></a>"
      ]
    },
    {
      "cell_type": "markdown",
      "metadata": {
        "id": "5YvecjXYs7C0"
      },
      "source": [
        "# credit_card_project_pyhton"
      ]
    },
    {
      "cell_type": "code",
      "metadata": {
        "colab": {
          "base_uri": "https://localhost:8080/"
        },
        "id": "scFi8FYgtp84",
        "outputId": "cadb5155-40f9-40f3-b202-80ec47e0b384"
      },
      "source": [
        "# Convertir de numero a string\n",
        "var_num = 10 # str(var_num)\n",
        "\n",
        "# Convertir de string a numero\n",
        "var_string = \"18.2\" # float(var_string)\n",
        "\n",
        "# Saber que tipo es!\n",
        "type(var_string)"
      ],
      "execution_count": null,
      "outputs": [
        {
          "output_type": "execute_result",
          "data": {
            "text/plain": [
              "str"
            ]
          },
          "metadata": {
            "tags": []
          },
          "execution_count": 2
        }
      ]
    },
    {
      "cell_type": "code",
      "metadata": {
        "colab": {
          "base_uri": "https://localhost:8080/"
        },
        "id": "KGM6rIjqt98N",
        "outputId": "399bbdd4-797f-4488-ce6d-0de63d7a2815"
      },
      "source": [
        "list_fam = [\"heydy\", 22, \"ines\", 54, \"henry\", 22,\"oscar\", 38]\n",
        "\n",
        "# Rebanado [ start : end ]\n",
        "#        Inclusive : exclusive\n",
        "print(list_fam[3:5]) # CROP no toma el ultimo digito \n",
        "print(list_fam[:5]) # CROP Desde el inicio hasta la posicion 4\n",
        "print(list_fam[5:]) # CROP Desde la posicion 5 hasta el final\n",
        "print(\"----\")\n",
        "list_fam[:2]= [\"Mayumy\", 24]\n",
        "print(list_fam)\n",
        "print(\"----\")\n",
        "fam_Ext = list_fam + [\"Achuchena\", 12] # ADD elements\n",
        "print(fam_Ext)\n",
        "print(\"----\")\n",
        "del(fam_Ext[-1]) # REMOVE elements\n",
        "print(fam_Ext)\n",
        "print(\"----\")\n",
        "print(\"Indice:\", list_fam.index(\"ines\")) # OBTENER el INDICE de la lista\n",
        "print(f\"Contar: {list_fam.count(22)}\") # CONTAR cuantas veces aparece algo"
      ],
      "execution_count": null,
      "outputs": [
        {
          "output_type": "stream",
          "text": [
            "[54, 'henry']\n",
            "['heydy', 22, 'ines', 54, 'henry']\n",
            "[22, 'oscar', 38]\n",
            "----\n",
            "['Mayumy', 24, 'ines', 54, 'henry', 22, 'oscar', 38]\n",
            "----\n",
            "['Mayumy', 24, 'ines', 54, 'henry', 22, 'oscar', 38, 'Achuchena', 12]\n",
            "----\n",
            "['Mayumy', 24, 'ines', 54, 'henry', 22, 'oscar', 38, 'Achuchena']\n",
            "----\n",
            "Indice: 2\n",
            "Contar: 1\n"
          ],
          "name": "stdout"
        }
      ]
    }
  ]
}